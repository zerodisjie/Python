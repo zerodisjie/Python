{
 "cells": [
  {
   "cell_type": "markdown",
   "metadata": {},
   "source": [
    "# while循环\n",
    "- 一个循环语句\n",
    "- 表示当某个条件成立的时候，就循环\n",
    "- 不知道具体循环次数，但能确定循环的成立条件的时候用while循环\n",
    "- while语法：\n",
    "\n",
    "        while 条件表达式：\n",
    "            语句块\n",
    "        #另外一种表达式\n",
    "        while 条件表达式“\n",
    "            语句块1\n",
    "        else：\n",
    "            语句块2"
   ]
  },
  {
   "cell_type": "code",
   "execution_count": 2,
   "metadata": {},
   "outputs": [
    {
     "name": "stdout",
     "output_type": "stream",
     "text": [
      "第1年拿了106700.0钱\n",
      "第2年拿了113848.9钱\n",
      "第3年拿了121476.77629999998钱\n",
      "第4年拿了129615.72031209998钱\n",
      "第5年拿了138299.97357301068钱\n",
      "第6年拿了147566.07180240238钱\n",
      "第7年拿了157452.99861316333钱\n",
      "第8年拿了168002.34952024528钱\n",
      "第9年拿了179258.5069381017钱\n",
      "第10年拿了191268.8269029545钱\n",
      "第11年拿了204083.83830545243钱\n"
     ]
    }
   ],
   "source": [
    "# 如果年利率是6.7%，本利是每年翻滚，则多少年后本钱会翻倍\n",
    "\n",
    "benqian=100000\n",
    "year=0\n",
    "while benqian<200000:\n",
    "    benqian=benqian*(1+0.067)\n",
    "    year+=1 #year=year+1\n",
    "    print(\"第{0}年拿了{1}钱\".format(year,benqian))"
   ]
  },
  {
   "cell_type": "code",
   "execution_count": 4,
   "metadata": {},
   "outputs": [
    {
     "name": "stdout",
     "output_type": "stream",
     "text": [
      "第1年拿了106700.0钱\n",
      "第2年拿了113848.9钱\n",
      "第3年拿了121476.77629999998钱\n",
      "第4年拿了129615.72031209998钱\n",
      "第5年拿了138299.97357301068钱\n",
      "第6年拿了147566.07180240238钱\n",
      "第7年拿了157452.99861316333钱\n",
      "第8年拿了168002.34952024528钱\n",
      "第9年拿了179258.5069381017钱\n",
      "第10年拿了191268.8269029545钱\n",
      "第11年拿了204083.83830545243钱\n",
      "大爷的，终于翻倍了，10多年呀\n",
      "当年10万可以盖个房子，现在儿子结婚，20万可以给他盖个房子了\n"
     ]
    }
   ],
   "source": [
    "# 如果年利率是6.7%，本利是每年翻滚，则多少年后本钱会翻倍\n",
    "# 如果拿到的钱翻倍，则用print庆祝一下\n",
    "benqian=100000\n",
    "year=0\n",
    "while benqian<200000:\n",
    "    benqian=benqian*(1+0.067)\n",
    "    year+=1 #year=year+1\n",
    "    print(\"第{0}年拿了{1}钱\".format(year,benqian))\n",
    "else:\n",
    "    print(\"大爷的，终于翻倍了，10多年呀\")\n",
    "    print(\"当年10万可以盖个房子，现在儿子结婚，20万可以给他盖个房子了\")"
   ]
  },
  {
   "cell_type": "markdown",
   "metadata": {},
   "source": [
    "# 函数\n",
    "- 代码的一种组织形式\n",
    "- 一个函数一般完成一项特定的功能\n",
    "- 函数使用\n",
    "    - 函数需要先定义\n",
    "    - 使用函数，俗称调用\n",
    "    "
   ]
  },
  {
   "cell_type": "code",
   "execution_count": 8,
   "metadata": {},
   "outputs": [
    {
     "name": "stdout",
     "output_type": "stream",
     "text": [
      "我结束了\n"
     ]
    }
   ],
   "source": [
    "# 定义一个函数\n",
    "# 只是定义的话不会执行\n",
    "# 1.def关键字，后跟一个空格\n",
    "# 2.函数名，自己定义，起名需要遵循命名规则，约定俗成，大驼峰命名只给类使用\n",
    "# 3.后面括号和冒号不能省，括号内可以有参数，\n",
    "# 4.函数内所有代码缩进\n",
    "def func():\n",
    "    print(\"我是一个函数\")\n",
    "    print(\"我要完成一定功能\")\n",
    "print(\"我结束了\")"
   ]
  },
  {
   "cell_type": "code",
   "execution_count": 10,
   "metadata": {},
   "outputs": [
    {
     "name": "stdout",
     "output_type": "stream",
     "text": [
      "我是一个函数\n",
      "我要完成一定功能\n"
     ]
    }
   ],
   "source": [
    "# 函数的调用\n",
    "# 直接函数名后面跟括号\n",
    "func()"
   ]
  },
  {
   "cell_type": "markdown",
   "metadata": {},
   "source": [
    "### 函数的参数和返回值\n",
    "- 参数：负责给函数传递一些必要的数据或者信息\n",
    "    - 形参（形式参数）：在函数定义的是时候用到的参数，没有具体值，只是一个站位的符号，称为形参\n",
    "    - 实参（实际参数）：在调用函数的时候输入的值\n",
    "- 返回值：函数的执行结果\n",
    "    - 使用return关键字\n",
    "    - 如果没有return，默认返回一个None\n",
    "    - 函数一旦执行return语句，则无条件返回，即结束函数执行"
   ]
  },
  {
   "cell_type": "code",
   "execution_count": 3,
   "metadata": {},
   "outputs": [
    {
     "name": "stdout",
     "output_type": "stream",
     "text": [
      "明月,你肿么了？\n",
      "Sir,你不理额额就走咧～\n"
     ]
    }
   ],
   "source": [
    "# 参数的的定义和使用\n",
    "# 参数person只是一个符号，代表的是调用的时候的某一个数据\n",
    "# 调用的时候，会用P的值代替函数中所有的person\n",
    "def hello(person):\n",
    "    print(\"{0},你肿么了？\".format(person))\n",
    "    print(\"Sir,你不理额额就走咧～\")\n",
    "\n",
    "p=\"明月\"    \n",
    "hello(p)"
   ]
  },
  {
   "cell_type": "code",
   "execution_count": 7,
   "metadata": {},
   "outputs": [
    {
     "name": "stdout",
     "output_type": "stream",
     "text": [
      "明月,你肿么了？\n",
      "Sir,你不理额额就走咧～\n",
      "我已经跟明月打招呼了，明月不理我\n"
     ]
    }
   ],
   "source": [
    "# return语句的基本使用\n",
    "# 函数打完招呼后返回一句话\n",
    "\n",
    "def hello(person):\n",
    "    print(\"{0},你肿么了？\".format(person))\n",
    "    print(\"Sir,你不理额额就走咧～\")\n",
    "    \n",
    "    return \"我已经跟{0}打招呼了，{1}不理我\".format(person,person)\n",
    "p=\"明月\"\n",
    "rst=hello(p)\n",
    "\n",
    "print(rst)"
   ]
  },
  {
   "cell_type": "code",
   "execution_count": 8,
   "metadata": {},
   "outputs": [
    {
     "name": "stdout",
     "output_type": "stream",
     "text": [
      "明月,你肿么了？\n",
      "哈哈，我提前结束了。\n"
     ]
    }
   ],
   "source": [
    "# return案例2\n",
    "def hello(person):\n",
    "    print(\"{0},你肿么了？\".format(person))\n",
    "    return \"哈哈，我提前结束了。\"\n",
    "    print(\"Sir,你不理额额就走咧～\")\n",
    "    return \"我已经跟{0}打招呼了，{1}不理我\".format(person,person)\n",
    "p=\"明月\"\n",
    "rst=hello(p)\n",
    "\n",
    "print(rst)"
   ]
  },
  {
   "cell_type": "code",
   "execution_count": 12,
   "metadata": {},
   "outputs": [
    {
     "name": "stdout",
     "output_type": "stream",
     "text": [
      "Help on built-in function print in module builtins:\n",
      "\n",
      "print(...)\n",
      "    print(value, ..., sep=' ', end='\\n', file=sys.stdout, flush=False)\n",
      "    \n",
      "    Prints the values to a stream, or to sys.stdout by default.\n",
      "    Optional keyword arguments:\n",
      "    file:  a file-like object (stream); defaults to the current sys.stdout.\n",
      "    sep:   string inserted between values, default a space.\n",
      "    end:   string appended after the last value, default a newline.\n",
      "    flush: whether to forcibly flush the stream.\n",
      "\n"
     ]
    }
   ],
   "source": [
    "# 查找函数帮助文档\n",
    "# 1.用help函数\n",
    "help(print)"
   ]
  },
  {
   "cell_type": "code",
   "execution_count": 14,
   "metadata": {},
   "outputs": [
    {
     "name": "stdout",
     "output_type": "stream",
     "text": [
      "1 ----------------\n",
      "2 4 ----------------\n",
      "3 6 9 ----------------\n",
      "4 8 12 16 ----------------\n",
      "5 10 15 20 25 ----------------\n",
      "6 12 18 24 30 36 ----------------\n",
      "7 14 21 28 35 42 49 ----------------\n",
      "8 16 24 32 40 48 56 64 ----------------\n",
      "9 18 27 36 45 54 63 72 81 ----------------\n"
     ]
    }
   ],
   "source": [
    "# 九九乘法表\n",
    "# version 1.0\n",
    "\n",
    "for row in range(1,10):\n",
    "    # 打印一行\n",
    "    for col in range(1,row+1):\n",
    "        # print函数默认任务打印完毕后换行\n",
    "        print (row*col,end=\" \")\n",
    "    print(\"----------------\")"
   ]
  },
  {
   "cell_type": "code",
   "execution_count": 16,
   "metadata": {},
   "outputs": [
    {
     "name": "stdout",
     "output_type": "stream",
     "text": [
      "1 \n",
      "2 4 \n",
      "3 6 9 \n",
      "4 8 12 16 \n",
      "5 10 15 20 25 \n",
      "6 12 18 24 30 36 \n",
      "7 14 21 28 35 42 49 \n",
      "8 16 24 32 40 48 56 64 \n",
      "9 18 27 36 45 54 63 72 81 \n"
     ]
    }
   ],
   "source": [
    "# 定义一个函数，打印一行九九乘法表\n",
    "def printline(row):\n",
    "    for col in range(1,row+1):\n",
    "        # print函数默认任务打印完毕后换行\n",
    "        print (row*col,end=\" \")\n",
    "    print(\"\")\n",
    "# 九九乘法表\n",
    "#version 2.0\n",
    "for row in range(1,10):\n",
    "    printline(row)"
   ]
  },
  {
   "cell_type": "code",
   "execution_count": 20,
   "metadata": {},
   "outputs": [
    {
     "name": "stdout",
     "output_type": "stream",
     "text": [
      "1x1=1 \n",
      "2x1=2 2x2=4 \n",
      "3x1=3 3x2=6 3x3=9 \n",
      "4x1=4 4x2=8 4x3=12 4x4=16 \n",
      "5x1=5 5x2=10 5x3=15 5x4=20 5x5=25 \n",
      "6x1=6 6x2=12 6x3=18 6x4=24 6x5=30 6x6=36 \n",
      "7x1=7 7x2=14 7x3=21 7x4=28 7x5=35 7x6=42 7x7=49 \n",
      "8x1=8 8x2=16 8x3=24 8x4=32 8x5=40 8x6=48 8x7=56 8x8=64 \n",
      "9x1=9 9x2=18 9x3=27 9x4=36 9x5=45 9x6=54 9x7=63 9x8=72 9x9=81 \n"
     ]
    }
   ],
   "source": [
    "# 定义一个函数，打印一行九九乘法表\n",
    "def printline(row):\n",
    "    for col in range(1,row+1):\n",
    "        # print函数默认任务打印完毕后换行\n",
    "        print (\"{0}x{1}={2}\".format(row,col,row*col),end=\" \")\n",
    "    print(\"\")\n",
    "# 九九乘法表\n",
    "# version 3.0\n",
    "for row in range(1,10):\n",
    "    printline(row)"
   ]
  },
  {
   "cell_type": "markdown",
   "metadata": {},
   "source": [
    "## 参数详解\n",
    "- [参考资料](https://www.cnblogs.com/bingabcd/p/6671368.html)\n",
    "- Python参考资料：headfirst python -->零基础入门学习Python（小甲鱼）,本讲义参考的是流畅的是Python-->习题-->后期可以考虑腾讯公开免费课\n",
    "- 参数分类\n",
    "    - 普通参数\n",
    "    - 默认参数\n",
    "    - 关键字参数\n",
    "    - 收集参数\n",
    "\n",
    "- 普通参数\n",
    "    - 参见上例\n",
    "    - 定义的时候直接定义变量名\n",
    "    - 调用的时候直接把变量或者值放入指定位置\n",
    "    \n",
    "    \n",
    "            def 函数名 (参数1,参数2,.....):\n",
    "                函数体\n",
    "            \n",
    "            # 调用\n",
    "            函数名(value1,value2,.....)\n",
    "            \n",
    "            # 调用的时候，具体值参考的是位置，按位置赋值\n",
    "            \n",
    "- 默认参数\n",
    "    - 形参带有默认值\n",
    "    - 调用的时候，如果没有对相应形参赋值，则使用默认值\n",
    "    \n",
    "            def func_name(p1=v1,p2=v2,....):\n",
    "                func_block\n",
    "            \n",
    "            #调用\n",
    "            func_name()\n",
    "            \n",
    "            #调用2\n",
    "            value1=100\n",
    "            value2=200\n",
    "            func_name(value1,vlaue2)"
   ]
  },
  {
   "cell_type": "code",
   "execution_count": 22,
   "metadata": {},
   "outputs": [],
   "source": [
    "# 默认参数示例\n",
    "# 报名函数，需要知道学生性别\n",
    "# 学习Python的学生基本都是男生，所有，报名的时候，如果没有特别指定，我们认为是男生\n",
    "def reg(name,age,gender=\"male\"):\n",
    "    if gender == \"male\":\n",
    "        print(\"{0} is {1},and he is a good student\".format(name,age))\n",
    "    else:\n",
    "        print(\"{0} is {1},and she is a good student\".format(name,age))\n",
    "    "
   ]
  },
  {
   "cell_type": "code",
   "execution_count": 26,
   "metadata": {},
   "outputs": [
    {
     "name": "stdout",
     "output_type": "stream",
     "text": [
      "mingyue is 21,and she is a good student\n",
      "xiaoming is 22,and he is a good student\n"
     ]
    }
   ],
   "source": [
    "# 调用默认参数函数案例1\n",
    "reg(\"mingyue\",21,\"female\")\n",
    "reg(\"xiaoming\",22)"
   ]
  }
 ],
 "metadata": {
  "kernelspec": {
   "display_name": "Python 3",
   "language": "python",
   "name": "python3"
  },
  "language_info": {
   "codemirror_mode": {
    "name": "ipython",
    "version": 3
   },
   "file_extension": ".py",
   "mimetype": "text/x-python",
   "name": "python",
   "nbconvert_exporter": "python",
   "pygments_lexer": "ipython3",
   "version": "3.7.0"
  }
 },
 "nbformat": 4,
 "nbformat_minor": 2
}
