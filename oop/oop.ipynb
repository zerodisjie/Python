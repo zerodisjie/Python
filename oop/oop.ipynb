{
 "cells": [
  {
   "cell_type": "code",
   "execution_count": 3,
   "metadata": {},
   "outputs": [
    {
     "name": "stdout",
     "output_type": "stream",
     "text": [
      "My name is aaaa\n",
      "My age is 200\n",
      "My name is aaaa\n",
      "My age is 200\n"
     ]
    }
   ],
   "source": [
    "class Student():\n",
    "    name=\"dana\"\n",
    "    age=18\n",
    "    \n",
    "    # 注意say的写法，参数由一个self\n",
    "    def say(self):\n",
    "        self.name=\"aaaa\"\n",
    "        self.age=200\n",
    "        print(\"My name is {0}\".format(self.name))\n",
    "        print(\"My age is {0}\".format(self.age))\n",
    "    def sayAgain(s):\n",
    "        print(\"My name is {0}\".format(s.name))\n",
    "        print(\"My age is {0}\".format(s.age))\n",
    "        \n",
    "yueyue=Student()\n",
    "yueyue.say()\n",
    "yueyue.sayAgain()"
   ]
  },
  {
   "cell_type": "code",
   "execution_count": 9,
   "metadata": {},
   "outputs": [
    {
     "name": "stdout",
     "output_type": "stream",
     "text": [
      "My name is yaona\n",
      "My age is 19\n",
      "dana\n",
      "19\n",
      "Hello,nice to see you again\n"
     ]
    }
   ],
   "source": [
    "class Teacher():\n",
    "    name=\"dana\"\n",
    "    age=19\n",
    "    \n",
    "    def say(self):\n",
    "        self.name=\"yaona\"\n",
    "        self.age=17\n",
    "        print(\"My name is {0}\".format(self.name))\n",
    "        # 调用类的成员变量需要用__class__\n",
    "        print(\"My age is {0}\".format(__class__.age))\n",
    "    def sayAgain():\n",
    "        print(__class__.name)\n",
    "        print(__class__.age)\n",
    "        print(\"Hello,nice to see you again\")\n",
    "\n",
    "        \n",
    "t=Teacher()\n",
    "t.say()\n",
    "# 调用绑定类的函数使用类名\n",
    "Teacher.sayAgain()"
   ]
  },
  {
   "cell_type": "code",
   "execution_count": 14,
   "metadata": {},
   "outputs": [
    {
     "name": "stdout",
     "output_type": "stream",
     "text": [
      "aaa\n",
      "200\n",
      "aaa\n",
      "200\n",
      "liuying\n",
      "18\n",
      "bbbb\n",
      "90\n"
     ]
    }
   ],
   "source": [
    "# 关于self的案例\n",
    "\n",
    "\n",
    "class A():\n",
    "    name=\"liuying\"\n",
    "    age=18\n",
    "    def __init__(self):\n",
    "        self.name=\"aaa\"\n",
    "        self.age=200\n",
    "    \n",
    "    def say(self):\n",
    "        print(self.name)\n",
    "        print(self.age)\n",
    "\n",
    "class B():\n",
    "    name=\"bbbb\"\n",
    "    age=90\n",
    "a=A()\n",
    "# 此时，系统会默认把a作为第一个参数传入函数\n",
    "a.say()\n",
    "# 此时，self被a替换\n",
    "A.say(a)\n",
    "# 永阳可以把A作为参数传入\n",
    "A.say(A)\n",
    "\n",
    "# 此时，传入的是类实例B，因为B具有name和age属性，所以不会报错\n",
    "A.say(B)\n",
    "# 以上代码，利用了鸭子模型"
   ]
  },
  {
   "cell_type": "code",
   "execution_count": 19,
   "metadata": {},
   "outputs": [
    {
     "name": "stdout",
     "output_type": "stream",
     "text": [
      "liuying\n"
     ]
    },
    {
     "ename": "AttributeError",
     "evalue": "'Person' object has no attribute '__age'",
     "output_type": "error",
     "traceback": [
      "\u001b[0;31m---------------------------------------------------------------------------\u001b[0m",
      "\u001b[0;31mAttributeError\u001b[0m                            Traceback (most recent call last)",
      "\u001b[0;32m<ipython-input-19-1b72f6a04ddd>\u001b[0m in \u001b[0;36m<module>\u001b[0;34m()\u001b[0m\n\u001b[1;32m     10\u001b[0m \u001b[0;31m# __age是私有变量\u001b[0m\u001b[0;34m\u001b[0m\u001b[0;34m\u001b[0m\u001b[0m\n\u001b[1;32m     11\u001b[0m \u001b[0;31m# 注意报错信息\u001b[0m\u001b[0;34m\u001b[0m\u001b[0;34m\u001b[0m\u001b[0m\n\u001b[0;32m---> 12\u001b[0;31m \u001b[0mprint\u001b[0m\u001b[0;34m(\u001b[0m\u001b[0mp\u001b[0m\u001b[0;34m.\u001b[0m\u001b[0m__age\u001b[0m\u001b[0;34m)\u001b[0m\u001b[0;34m\u001b[0m\u001b[0m\n\u001b[0m\u001b[1;32m     13\u001b[0m \u001b[0mp\u001b[0m\u001b[0;34m.\u001b[0m\u001b[0m_Person__age\u001b[0m\u001b[0;34m=\u001b[0m\u001b[0;36m19\u001b[0m\u001b[0;34m\u001b[0m\u001b[0m\n\u001b[1;32m     14\u001b[0m \u001b[0mprint\u001b[0m\u001b[0;34m(\u001b[0m\u001b[0mp\u001b[0m\u001b[0;34m.\u001b[0m\u001b[0m_Person__age\u001b[0m\u001b[0;34m)\u001b[0m\u001b[0;34m\u001b[0m\u001b[0m\n",
      "\u001b[0;31mAttributeError\u001b[0m: 'Person' object has no attribute '__age'"
     ]
    }
   ],
   "source": [
    "# 私有连变量案例\n",
    "class Person():\n",
    "    # name是共有的成员\n",
    "    name = \"liuying\"\n",
    "    # __age就是私有成员\n",
    "    __age=18\n",
    "p=Person()\n",
    "# name是共有变量\n",
    "print(p.name)\n",
    "# __age是私有变量\n",
    "# 注意报错信息\n",
    "print(p.__age)"
   ]
  },
  {
   "cell_type": "code",
   "execution_count": 20,
   "metadata": {},
   "outputs": [
    {
     "name": "stdout",
     "output_type": "stream",
     "text": [
      "{'__module__': '__main__', 'name': 'liuying', '_Person__age': 18, '__dict__': <attribute '__dict__' of 'Person' objects>, '__weakref__': <attribute '__weakref__' of 'Person' objects>, '__doc__': None}\n",
      "19\n"
     ]
    }
   ],
   "source": [
    "# name mangling技术\n",
    "print(Person.__dict__)\n",
    "p._Person__age=19\n",
    "print(p._Person__age)"
   ]
  },
  {
   "cell_type": "code",
   "execution_count": null,
   "metadata": {},
   "outputs": [],
   "source": []
  }
 ],
 "metadata": {
  "kernelspec": {
   "display_name": "Python 3",
   "language": "python",
   "name": "python3"
  },
  "language_info": {
   "codemirror_mode": {
    "name": "ipython",
    "version": 3
   },
   "file_extension": ".py",
   "mimetype": "text/x-python",
   "name": "python",
   "nbconvert_exporter": "python",
   "pygments_lexer": "ipython3",
   "version": "3.7.0"
  }
 },
 "nbformat": 4,
 "nbformat_minor": 2
}
